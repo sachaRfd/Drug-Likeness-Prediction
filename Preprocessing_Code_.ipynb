{
  "nbformat": 4,
  "nbformat_minor": 0,
  "metadata": {
    "colab": {
      "provenance": [],
      "authorship_tag": "ABX9TyPfvOzKFqO+HDTBv1WSGicX",
      "include_colab_link": true
    },
    "kernelspec": {
      "name": "python3",
      "display_name": "Python 3"
    },
    "language_info": {
      "name": "python"
    }
  },
  "cells": [
    {
      "cell_type": "markdown",
      "metadata": {
        "id": "view-in-github",
        "colab_type": "text"
      },
      "source": [
        "<a href=\"https://colab.research.google.com/github/sachaRfd/Drug-Likeness-Prediction/blob/main/Preprocessing_Code_.ipynb\" target=\"_parent\"><img src=\"https://colab.research.google.com/assets/colab-badge.svg\" alt=\"Open In Colab\"/></a>"
      ]
    },
    {
      "cell_type": "code",
      "execution_count": null,
      "metadata": {
        "id": "y5PgsV2K7fOX"
      },
      "outputs": [],
      "source": [
        "import torch\n",
        "import torch.nn as nn\n",
        "import string\n",
        "import random\n",
        "import sys\n",
        "import os\n",
        "import pandas as pd\n",
        "import numpy as np\n",
        "\n",
        "\n",
        "!pip install rdkit -q\n",
        "\n",
        "from rdkit import Chem\n",
        "from rdkit.Chem.Draw import IPythonConsole\n",
        "from rdkit.Chem import PandasTools\n",
        "from rdkit.Chem import Descriptors\n",
        "\n",
        "\n",
        "device = torch.device('cuda' if torch.cuda.is_available() else 'cpu')\n",
        "from google.colab import drive\n",
        "drive.mount('/content/drive')\n",
        "\n"
      ]
    },
    {
      "cell_type": "code",
      "source": [
        "data = pd.read_csv('250k_rndm_zinc_drugs.csv')\n",
        "data"
      ],
      "metadata": {
        "id": "WOtmlGgX7k1x"
      },
      "execution_count": null,
      "outputs": []
    },
    {
      "cell_type": "code",
      "source": [
        "data.duplicated().sum()"
      ],
      "metadata": {
        "id": "rUMelp0g7msJ"
      },
      "execution_count": null,
      "outputs": []
    },
    {
      "cell_type": "code",
      "source": [
        "data.isna().sum()"
      ],
      "metadata": {
        "id": "7CXh1eXt7oUC"
      },
      "execution_count": null,
      "outputs": []
    },
    {
      "cell_type": "code",
      "source": [
        "data.isnull().sum()"
      ],
      "metadata": {
        "id": "pqKqcUFO7qAX"
      },
      "execution_count": null,
      "outputs": []
    },
    {
      "cell_type": "code",
      "source": [
        "SMILES = data.smiles.values\n",
        "fingerprints = [Chem.RDKFingerprint(Chem.MolFromSmiles(i)) for i in SMILES]\n",
        "data['Finger_print'] = fingerprints\n",
        "data"
      ],
      "metadata": {
        "id": "YZ-mzqVu7scJ"
      },
      "execution_count": null,
      "outputs": []
    },
    {
      "cell_type": "code",
      "source": [
        "bits = [str(i.ToBitString()) for i in data.Finger_print]\n",
        "data['BITS'] = bits"
      ],
      "metadata": {
        "id": "BJxL-_o17t36"
      },
      "execution_count": null,
      "outputs": []
    },
    {
      "cell_type": "code",
      "source": [
        "# Split the BITS column into a list of integers\n",
        "data['BITS'] = data['BITS'].apply(lambda x: [int(i) for i in x])"
      ],
      "metadata": {
        "id": "IHurj49U7viR"
      },
      "execution_count": null,
      "outputs": []
    },
    {
      "cell_type": "code",
      "source": [
        "# Create a new DataFrame with the new columns\n",
        "new_columns = pd.DataFrame(data['BITS'].tolist(), columns=['bits_{}'.format(i+1) for i in range(len(data['BITS'][0]))])\n",
        "\n",
        "# Join the new columns to the original DataFrame\n",
        "df = pd.concat([data, new_columns], axis=1)"
      ],
      "metadata": {
        "id": "z89dO4R97w02"
      },
      "execution_count": null,
      "outputs": []
    },
    {
      "cell_type": "code",
      "source": [
        "df = df.drop(columns=['BITS'])\n",
        "df = df.drop(columns='Finger_print')"
      ],
      "metadata": {
        "id": "ThEs9SH17yGv"
      },
      "execution_count": null,
      "outputs": []
    },
    {
      "cell_type": "code",
      "source": [
        "df.to_csv('Pre_processed.csv', index=False)"
      ],
      "metadata": {
        "id": "aFDrEeKL70To"
      },
      "execution_count": null,
      "outputs": []
    }
  ]
}