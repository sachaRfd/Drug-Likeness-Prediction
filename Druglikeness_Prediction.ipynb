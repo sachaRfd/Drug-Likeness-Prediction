{
  "nbformat": 4,
  "nbformat_minor": 0,
  "metadata": {
    "colab": {
      "provenance": [],
      "authorship_tag": "ABX9TyO0hCSL2HkMCHLtIFkqmYJX",
      "include_colab_link": true
    },
    "kernelspec": {
      "name": "python3",
      "display_name": "Python 3"
    },
    "language_info": {
      "name": "python"
    },
    "gpuClass": "standard"
  },
  "cells": [
    {
      "cell_type": "markdown",
      "metadata": {
        "id": "view-in-github",
        "colab_type": "text"
      },
      "source": [
        "<a href=\"https://colab.research.google.com/github/sachaRfd/Drug-Likeness-Prediction/blob/main/Druglikeness_Prediction.ipynb\" target=\"_parent\"><img src=\"https://colab.research.google.com/assets/colab-badge.svg\" alt=\"Open In Colab\"/></a>"
      ]
    },
    {
      "cell_type": "markdown",
      "source": [
        "## Machine learning Predictions for drug likeness score:\n",
        "\n",
        "Database: \n",
        "- Data includes SMILES - logP (water-octanal partition coefficient) - Drug-Likeness\n",
        "- from https://raw.githubusercontent.com/aspuru-guzik-group/chemical_vae/master/models/zinc_properties/250k_rndm_zinc_drugs_clean_3.csv"
      ],
      "metadata": {
        "id": "IaOGIZRJSJ7H"
      }
    },
    {
      "cell_type": "markdown",
      "source": [
        "Classic Imports: "
      ],
      "metadata": {
        "id": "_rn94O3XSgzk"
      }
    },
    {
      "cell_type": "code",
      "source": [
        "import torch\n",
        "import torch.nn as nn\n",
        "import string\n",
        "import random\n",
        "import sys\n",
        "import os\n",
        "import pandas as pd\n",
        "import numpy as np\n",
        "\n",
        "!pip install unidecode\n",
        "import unidecode\n",
        "from torch.utils.tensorboard import SummaryWriter\n",
        "\n",
        "!pip install rdkit -q\n",
        "\n",
        "from rdkit import Chem\n",
        "from rdkit.Chem.Draw import IPythonConsole\n",
        "from rdkit.Chem import PandasTools\n",
        "from rdkit.Chem import Descriptors\n",
        "\n",
        "\n",
        "device = torch.device('cuda' if torch.cuda.is_available() else 'cpu')\n",
        "from google.colab import drive\n",
        "drive.mount('/content/drive')"
      ],
      "metadata": {
        "colab": {
          "base_uri": "https://localhost:8080/"
        },
        "id": "wj-6vEo2SgGT",
        "outputId": "13c1b168-6caf-4f7e-bf0d-d79082707e00"
      },
      "execution_count": 1,
      "outputs": [
        {
          "output_type": "stream",
          "name": "stdout",
          "text": [
            "Looking in indexes: https://pypi.org/simple, https://us-python.pkg.dev/colab-wheels/public/simple/\n",
            "Collecting unidecode\n",
            "  Downloading Unidecode-1.3.6-py3-none-any.whl (235 kB)\n",
            "\u001b[2K     \u001b[90m━━━━━━━━━━━━━━━━━━━━━━━━━━━━━━━━━━━━━━━\u001b[0m \u001b[32m235.9/235.9 KB\u001b[0m \u001b[31m6.3 MB/s\u001b[0m eta \u001b[36m0:00:00\u001b[0m\n",
            "\u001b[?25hInstalling collected packages: unidecode\n",
            "Successfully installed unidecode-1.3.6\n",
            "\u001b[2K     \u001b[90m━━━━━━━━━━━━━━━━━━━━━━━━━━━━━━━━━━━━━━━━\u001b[0m \u001b[32m29.3/29.3 MB\u001b[0m \u001b[31m45.9 MB/s\u001b[0m eta \u001b[36m0:00:00\u001b[0m\n",
            "\u001b[?25hMounted at /content/drive\n"
          ]
        }
      ]
    },
    {
      "cell_type": "markdown",
      "source": [
        "Seed-setting function:"
      ],
      "metadata": {
        "id": "BJQz1CBLSzZV"
      }
    },
    {
      "cell_type": "code",
      "execution_count": 2,
      "metadata": {
        "id": "tCSLG-XiSIpJ"
      },
      "outputs": [],
      "source": [
        "\n",
        "def set_seed(seed):\n",
        "    \"\"\"\n",
        "    Use this to set ALL the random seeds to a fixed value and take out any randomness from cuda kernels\n",
        "    \"\"\"\n",
        "\n",
        "    random.seed(seed)\n",
        "    np.random.seed(seed)\n",
        "    torch.manual_seed(seed)\n",
        "    torch.cuda.manual_seed_all(seed)"
      ]
    },
    {
      "cell_type": "markdown",
      "source": [
        "Data was downloaded from: \n"
      ],
      "metadata": {
        "id": "uqH5-hFBTDBr"
      }
    },
    {
      "cell_type": "code",
      "source": [
        "data = pd.read_csv('250k_rndm_zinc_drugs.csv')\n",
        "data"
      ],
      "metadata": {
        "colab": {
          "base_uri": "https://localhost:8080/",
          "height": 424
        },
        "id": "Q_qGvE32XrLt",
        "outputId": "d4092432-1a6e-428a-81c9-bd12a4cb86a6"
      },
      "execution_count": 9,
      "outputs": [
        {
          "output_type": "execute_result",
          "data": {
            "text/plain": [
              "                                                   smiles     logP       qed  \\\n",
              "0               CC(C)(C)c1ccc2occ(CC(=O)Nc3ccccc3F)c2c1\\n  5.05060  0.702012   \n",
              "1          C[C@@H]1CC(Nc2cncc(-c3nncn3C)c2)C[C@@H](C)C1\\n  3.11370  0.928975   \n",
              "2       N#Cc1ccc(-c2ccc(O[C@@H](C(=O)N3CCCC3)c3ccccc3)...  4.96778  0.599682   \n",
              "3       CCOC(=O)[C@@H]1CCCN(C(=O)c2nc(-c3ccc(C)cc3)n3c...  4.00022  0.690944   \n",
              "4       N#CC1=C(SCC(=O)Nc2cccc(Cl)c2)N=C([O-])[C@H](C#...  3.60956  0.789027   \n",
              "...                                                   ...      ...       ...   \n",
              "249450  CC1(C)CC[C@H](CNC(=O)Cn2ncc3ccccc3c2=O)c2ccccc...  3.36790  0.745901   \n",
              "249451  Cn1ccnc1C(=O)c1ccc(NC(=O)C2CCN(C(=O)C(C)(C)C)C...  2.87430  0.799426   \n",
              "249452           Cc1ccc(NC(=O)C(=O)N(C)Cc2ccccc2)c(C)c1\\n  2.90054  0.878086   \n",
              "249453       Cc1cc(C(=O)Nc2ccc(OCC(N)=O)cc2)c(C)n1C1CC1\\n  2.55624  0.852917   \n",
              "249454  O=C(CC(c1ccccc1)c1ccccc1)N1CCN(S(=O)(=O)c2cccc...  3.64990  0.370287   \n",
              "\n",
              "             SAS  \n",
              "0       2.084095  \n",
              "1       3.432004  \n",
              "2       2.470633  \n",
              "3       2.822753  \n",
              "4       4.035182  \n",
              "...          ...  \n",
              "249450  2.900726  \n",
              "249451  2.326627  \n",
              "249452  1.840642  \n",
              "249453  2.024638  \n",
              "249454  2.214249  \n",
              "\n",
              "[249455 rows x 4 columns]"
            ],
            "text/html": [
              "\n",
              "  <div id=\"df-68a053c7-7969-463a-ba5c-c54a35eff021\">\n",
              "    <div class=\"colab-df-container\">\n",
              "      <div>\n",
              "<style scoped>\n",
              "    .dataframe tbody tr th:only-of-type {\n",
              "        vertical-align: middle;\n",
              "    }\n",
              "\n",
              "    .dataframe tbody tr th {\n",
              "        vertical-align: top;\n",
              "    }\n",
              "\n",
              "    .dataframe thead th {\n",
              "        text-align: right;\n",
              "    }\n",
              "</style>\n",
              "<table border=\"1\" class=\"dataframe\">\n",
              "  <thead>\n",
              "    <tr style=\"text-align: right;\">\n",
              "      <th></th>\n",
              "      <th>smiles</th>\n",
              "      <th>logP</th>\n",
              "      <th>qed</th>\n",
              "      <th>SAS</th>\n",
              "    </tr>\n",
              "  </thead>\n",
              "  <tbody>\n",
              "    <tr>\n",
              "      <th>0</th>\n",
              "      <td>CC(C)(C)c1ccc2occ(CC(=O)Nc3ccccc3F)c2c1\\n</td>\n",
              "      <td>5.05060</td>\n",
              "      <td>0.702012</td>\n",
              "      <td>2.084095</td>\n",
              "    </tr>\n",
              "    <tr>\n",
              "      <th>1</th>\n",
              "      <td>C[C@@H]1CC(Nc2cncc(-c3nncn3C)c2)C[C@@H](C)C1\\n</td>\n",
              "      <td>3.11370</td>\n",
              "      <td>0.928975</td>\n",
              "      <td>3.432004</td>\n",
              "    </tr>\n",
              "    <tr>\n",
              "      <th>2</th>\n",
              "      <td>N#Cc1ccc(-c2ccc(O[C@@H](C(=O)N3CCCC3)c3ccccc3)...</td>\n",
              "      <td>4.96778</td>\n",
              "      <td>0.599682</td>\n",
              "      <td>2.470633</td>\n",
              "    </tr>\n",
              "    <tr>\n",
              "      <th>3</th>\n",
              "      <td>CCOC(=O)[C@@H]1CCCN(C(=O)c2nc(-c3ccc(C)cc3)n3c...</td>\n",
              "      <td>4.00022</td>\n",
              "      <td>0.690944</td>\n",
              "      <td>2.822753</td>\n",
              "    </tr>\n",
              "    <tr>\n",
              "      <th>4</th>\n",
              "      <td>N#CC1=C(SCC(=O)Nc2cccc(Cl)c2)N=C([O-])[C@H](C#...</td>\n",
              "      <td>3.60956</td>\n",
              "      <td>0.789027</td>\n",
              "      <td>4.035182</td>\n",
              "    </tr>\n",
              "    <tr>\n",
              "      <th>...</th>\n",
              "      <td>...</td>\n",
              "      <td>...</td>\n",
              "      <td>...</td>\n",
              "      <td>...</td>\n",
              "    </tr>\n",
              "    <tr>\n",
              "      <th>249450</th>\n",
              "      <td>CC1(C)CC[C@H](CNC(=O)Cn2ncc3ccccc3c2=O)c2ccccc...</td>\n",
              "      <td>3.36790</td>\n",
              "      <td>0.745901</td>\n",
              "      <td>2.900726</td>\n",
              "    </tr>\n",
              "    <tr>\n",
              "      <th>249451</th>\n",
              "      <td>Cn1ccnc1C(=O)c1ccc(NC(=O)C2CCN(C(=O)C(C)(C)C)C...</td>\n",
              "      <td>2.87430</td>\n",
              "      <td>0.799426</td>\n",
              "      <td>2.326627</td>\n",
              "    </tr>\n",
              "    <tr>\n",
              "      <th>249452</th>\n",
              "      <td>Cc1ccc(NC(=O)C(=O)N(C)Cc2ccccc2)c(C)c1\\n</td>\n",
              "      <td>2.90054</td>\n",
              "      <td>0.878086</td>\n",
              "      <td>1.840642</td>\n",
              "    </tr>\n",
              "    <tr>\n",
              "      <th>249453</th>\n",
              "      <td>Cc1cc(C(=O)Nc2ccc(OCC(N)=O)cc2)c(C)n1C1CC1\\n</td>\n",
              "      <td>2.55624</td>\n",
              "      <td>0.852917</td>\n",
              "      <td>2.024638</td>\n",
              "    </tr>\n",
              "    <tr>\n",
              "      <th>249454</th>\n",
              "      <td>O=C(CC(c1ccccc1)c1ccccc1)N1CCN(S(=O)(=O)c2cccc...</td>\n",
              "      <td>3.64990</td>\n",
              "      <td>0.370287</td>\n",
              "      <td>2.214249</td>\n",
              "    </tr>\n",
              "  </tbody>\n",
              "</table>\n",
              "<p>249455 rows × 4 columns</p>\n",
              "</div>\n",
              "      <button class=\"colab-df-convert\" onclick=\"convertToInteractive('df-68a053c7-7969-463a-ba5c-c54a35eff021')\"\n",
              "              title=\"Convert this dataframe to an interactive table.\"\n",
              "              style=\"display:none;\">\n",
              "        \n",
              "  <svg xmlns=\"http://www.w3.org/2000/svg\" height=\"24px\"viewBox=\"0 0 24 24\"\n",
              "       width=\"24px\">\n",
              "    <path d=\"M0 0h24v24H0V0z\" fill=\"none\"/>\n",
              "    <path d=\"M18.56 5.44l.94 2.06.94-2.06 2.06-.94-2.06-.94-.94-2.06-.94 2.06-2.06.94zm-11 1L8.5 8.5l.94-2.06 2.06-.94-2.06-.94L8.5 2.5l-.94 2.06-2.06.94zm10 10l.94 2.06.94-2.06 2.06-.94-2.06-.94-.94-2.06-.94 2.06-2.06.94z\"/><path d=\"M17.41 7.96l-1.37-1.37c-.4-.4-.92-.59-1.43-.59-.52 0-1.04.2-1.43.59L10.3 9.45l-7.72 7.72c-.78.78-.78 2.05 0 2.83L4 21.41c.39.39.9.59 1.41.59.51 0 1.02-.2 1.41-.59l7.78-7.78 2.81-2.81c.8-.78.8-2.07 0-2.86zM5.41 20L4 18.59l7.72-7.72 1.47 1.35L5.41 20z\"/>\n",
              "  </svg>\n",
              "      </button>\n",
              "      \n",
              "  <style>\n",
              "    .colab-df-container {\n",
              "      display:flex;\n",
              "      flex-wrap:wrap;\n",
              "      gap: 12px;\n",
              "    }\n",
              "\n",
              "    .colab-df-convert {\n",
              "      background-color: #E8F0FE;\n",
              "      border: none;\n",
              "      border-radius: 50%;\n",
              "      cursor: pointer;\n",
              "      display: none;\n",
              "      fill: #1967D2;\n",
              "      height: 32px;\n",
              "      padding: 0 0 0 0;\n",
              "      width: 32px;\n",
              "    }\n",
              "\n",
              "    .colab-df-convert:hover {\n",
              "      background-color: #E2EBFA;\n",
              "      box-shadow: 0px 1px 2px rgba(60, 64, 67, 0.3), 0px 1px 3px 1px rgba(60, 64, 67, 0.15);\n",
              "      fill: #174EA6;\n",
              "    }\n",
              "\n",
              "    [theme=dark] .colab-df-convert {\n",
              "      background-color: #3B4455;\n",
              "      fill: #D2E3FC;\n",
              "    }\n",
              "\n",
              "    [theme=dark] .colab-df-convert:hover {\n",
              "      background-color: #434B5C;\n",
              "      box-shadow: 0px 1px 3px 1px rgba(0, 0, 0, 0.15);\n",
              "      filter: drop-shadow(0px 1px 2px rgba(0, 0, 0, 0.3));\n",
              "      fill: #FFFFFF;\n",
              "    }\n",
              "  </style>\n",
              "\n",
              "      <script>\n",
              "        const buttonEl =\n",
              "          document.querySelector('#df-68a053c7-7969-463a-ba5c-c54a35eff021 button.colab-df-convert');\n",
              "        buttonEl.style.display =\n",
              "          google.colab.kernel.accessAllowed ? 'block' : 'none';\n",
              "\n",
              "        async function convertToInteractive(key) {\n",
              "          const element = document.querySelector('#df-68a053c7-7969-463a-ba5c-c54a35eff021');\n",
              "          const dataTable =\n",
              "            await google.colab.kernel.invokeFunction('convertToInteractive',\n",
              "                                                     [key], {});\n",
              "          if (!dataTable) return;\n",
              "\n",
              "          const docLinkHtml = 'Like what you see? Visit the ' +\n",
              "            '<a target=\"_blank\" href=https://colab.research.google.com/notebooks/data_table.ipynb>data table notebook</a>'\n",
              "            + ' to learn more about interactive tables.';\n",
              "          element.innerHTML = '';\n",
              "          dataTable['output_type'] = 'display_data';\n",
              "          await google.colab.output.renderOutput(dataTable, element);\n",
              "          const docLink = document.createElement('div');\n",
              "          docLink.innerHTML = docLinkHtml;\n",
              "          element.appendChild(docLink);\n",
              "        }\n",
              "      </script>\n",
              "    </div>\n",
              "  </div>\n",
              "  "
            ]
          },
          "metadata": {},
          "execution_count": 9
        }
      ]
    },
    {
      "cell_type": "markdown",
      "source": [
        "Let's check for duplicates: "
      ],
      "metadata": {
        "id": "GFG1vAmDZOk8"
      }
    },
    {
      "cell_type": "code",
      "source": [
        "data.duplicated().sum()"
      ],
      "metadata": {
        "colab": {
          "base_uri": "https://localhost:8080/"
        },
        "id": "FxEZSGHOZQM2",
        "outputId": "ac229323-4c51-46e6-9db9-985427590687"
      },
      "execution_count": 22,
      "outputs": [
        {
          "output_type": "execute_result",
          "data": {
            "text/plain": [
              "0"
            ]
          },
          "metadata": {},
          "execution_count": 22
        }
      ]
    },
    {
      "cell_type": "markdown",
      "source": [
        "Let's check for missing values: \n"
      ],
      "metadata": {
        "id": "GhadaxBqZYSQ"
      }
    },
    {
      "cell_type": "code",
      "source": [
        "data.isna().sum()"
      ],
      "metadata": {
        "colab": {
          "base_uri": "https://localhost:8080/"
        },
        "id": "_xgWEBxwZafx",
        "outputId": "33e42837-c5d9-4a4f-b371-30fef6eec88a"
      },
      "execution_count": 25,
      "outputs": [
        {
          "output_type": "execute_result",
          "data": {
            "text/plain": [
              "smiles    0\n",
              "logP      0\n",
              "qed       0\n",
              "SAS       0\n",
              "dtype: int64"
            ]
          },
          "metadata": {},
          "execution_count": 25
        }
      ]
    },
    {
      "cell_type": "code",
      "source": [
        "data.isnull().sum()"
      ],
      "metadata": {
        "colab": {
          "base_uri": "https://localhost:8080/"
        },
        "id": "M84rbOx0ZeR0",
        "outputId": "f7c15943-aaf1-4f41-c1e2-b17dafde8a52"
      },
      "execution_count": 27,
      "outputs": [
        {
          "output_type": "execute_result",
          "data": {
            "text/plain": [
              "smiles    0\n",
              "logP      0\n",
              "qed       0\n",
              "SAS       0\n",
              "dtype: int64"
            ]
          },
          "metadata": {},
          "execution_count": 27
        }
      ]
    },
    {
      "cell_type": "markdown",
      "source": [
        "Now let's add Molecular weights: "
      ],
      "metadata": {
        "id": "HFT7CXSudOj1"
      }
    },
    {
      "cell_type": "code",
      "source": [
        "from rdkit.Chem import Descriptors\n",
        "\n",
        "# Calculated MW - total molecular weight\n",
        "# Descriptors.MolWt(x)\n",
        "test = data.smiles.iloc[0]\n",
        "mol = Chem.MolFromSmiles(test)\n",
        "\n",
        "Descriptors.MolWt(mol)"
      ],
      "metadata": {
        "colab": {
          "base_uri": "https://localhost:8080/"
        },
        "id": "D76_ynv6dWse",
        "outputId": "9f5aa359-c854-4cfd-a2f9-29238d23b20c"
      },
      "execution_count": 114,
      "outputs": [
        {
          "output_type": "execute_result",
          "data": {
            "text/plain": [
              "325.38300000000004"
            ]
          },
          "metadata": {},
          "execution_count": 114
        }
      ]
    },
    {
      "cell_type": "markdown",
      "source": [
        "Number of atoms: "
      ],
      "metadata": {
        "id": "juJwPmGRekdI"
      }
    },
    {
      "cell_type": "code",
      "source": [
        "mol.GetNumAtoms()"
      ],
      "metadata": {
        "colab": {
          "base_uri": "https://localhost:8080/"
        },
        "id": "rvLNy_Fxelw8",
        "outputId": "42af3f48-9c9e-4e92-9a69-f750b15937e6"
      },
      "execution_count": 115,
      "outputs": [
        {
          "output_type": "execute_result",
          "data": {
            "text/plain": [
              "24"
            ]
          },
          "metadata": {},
          "execution_count": 115
        }
      ]
    },
    {
      "cell_type": "markdown",
      "source": [
        "Now let's add Atomic Composition: "
      ],
      "metadata": {
        "id": "SA81qifkeRZs"
      }
    },
    {
      "cell_type": "code",
      "source": [
        "fp = Chem.RDKFingerprint(mol)\n",
        "\n",
        "# Convert the fingerprint to a bit string for visualisation: \n",
        "bit_string = fp.ToBitString()\n",
        "\n",
        "# Print the bit string\n",
        "print(bit_string)"
      ],
      "metadata": {
        "colab": {
          "base_uri": "https://localhost:8080/"
        },
        "id": "uJ4tumIIgqRQ",
        "outputId": "5331845d-b22e-41b1-f855-7ebe09d6469c"
      },
      "execution_count": 117,
      "outputs": [
        {
          "output_type": "stream",
          "name": "stdout",
          "text": [
            "01010100100000001110000011001101111011001000010000100001111101001000010010001100011101000000000010111001010001001000000110101000000010001001001011000010000000000110001000000101010111011000100010100111000001001000000000011001101111001001000000000100001011010010011110000110001010101111000000000010000001110010100000010011101100000011101000110000101000110000010001100011100000000110010000000001010000000101000110010001000000110000101010101011011010000100110000001000111001110000010100000000001000000010011100111110010000011100100001001011100010101110001011011000100010001101010000010000000000000010000010011011000100000011001100010000010010110100000110011011111001100101001110000010010000000000010100010110100001000111110100010001000011000011000010000010110010000001000100100001000101011110000010000011011001000000100101110000111001101000000001100000100000111110000000001001011110010001001010000100101000010110000100110011010000000010010010101001000010111100010010000110100010000100000001100001010100010000011000000110001100001111000010110000101100010110000000011000110000000101110000111000101010010001000001010000110101100000100001010100001010010000100110010100011000111001100011010000100000001110000001001001010011000111101100000000100100100011100000110000100011101010011100000101101011011000100001000100110010100010100111000000001001000010100111001101000000010000111111010100000010001001001000010001001011011011101100001001000000011000000110000000010110111101000110010110000000111111100001101010110000010001010000100001001100101100000001000111010001000100100000001000000100000110010100000100111001011000011101001010110110010100000111111010001100010010010100011010011010010011100001100100000000100111100000000110010101000100010100010001010001000000010111011101000001100000101010000000101000100001001001000010011101101000101000101100010000100000010000101010000001100011001110101010010000011100011100000000011101111010000010001011100010100000111011110100010001010001011000001101111110001101000000000010100000000000000001000110000010011110110011000101\n"
          ]
        }
      ]
    },
    {
      "cell_type": "markdown",
      "source": [
        "Let's try and add the fingerprint to the dataframe by iterating all the strings: "
      ],
      "metadata": {
        "id": "nhx_DvgpiXyN"
      }
    },
    {
      "cell_type": "code",
      "source": [
        "SMILES = data.smiles.values\n",
        "fingerprints = [Chem.RDKFingerprint(Chem.MolFromSmiles(i)) for i in SMILES]\n",
        "data['Finger_print'] = fingerprints\n",
        "data"
      ],
      "metadata": {
        "id": "ufqPGpa_ichT"
      },
      "execution_count": 128,
      "outputs": []
    },
    {
      "cell_type": "code",
      "source": [
        "bits = [float(i.ToBitString()) for i in data.Finger_print]\n",
        "data['BITS'] = bits"
      ],
      "metadata": {
        "id": "OTPvNOsLkWkX"
      },
      "execution_count": 153,
      "outputs": []
    },
    {
      "cell_type": "code",
      "source": [
        "data"
      ],
      "metadata": {
        "colab": {
          "base_uri": "https://localhost:8080/",
          "height": 424
        },
        "id": "MXJzZoqxl_Zg",
        "outputId": "5ee87f5e-74b8-43de-f48c-68a9efd5516a"
      },
      "execution_count": 154,
      "outputs": [
        {
          "output_type": "execute_result",
          "data": {
            "text/plain": [
              "                                                   smiles     logP       qed  \\\n",
              "0               CC(C)(C)c1ccc2occ(CC(=O)Nc3ccccc3F)c2c1\\n  5.05060  0.702012   \n",
              "1          C[C@@H]1CC(Nc2cncc(-c3nncn3C)c2)C[C@@H](C)C1\\n  3.11370  0.928975   \n",
              "2       N#Cc1ccc(-c2ccc(O[C@@H](C(=O)N3CCCC3)c3ccccc3)...  4.96778  0.599682   \n",
              "3       CCOC(=O)[C@@H]1CCCN(C(=O)c2nc(-c3ccc(C)cc3)n3c...  4.00022  0.690944   \n",
              "4       N#CC1=C(SCC(=O)Nc2cccc(Cl)c2)N=C([O-])[C@H](C#...  3.60956  0.789027   \n",
              "...                                                   ...      ...       ...   \n",
              "249450  CC1(C)CC[C@H](CNC(=O)Cn2ncc3ccccc3c2=O)c2ccccc...  3.36790  0.745901   \n",
              "249451  Cn1ccnc1C(=O)c1ccc(NC(=O)C2CCN(C(=O)C(C)(C)C)C...  2.87430  0.799426   \n",
              "249452           Cc1ccc(NC(=O)C(=O)N(C)Cc2ccccc2)c(C)c1\\n  2.90054  0.878086   \n",
              "249453       Cc1cc(C(=O)Nc2ccc(OCC(N)=O)cc2)c(C)n1C1CC1\\n  2.55624  0.852917   \n",
              "249454  O=C(CC(c1ccccc1)c1ccccc1)N1CCN(S(=O)(=O)c2cccc...  3.64990  0.370287   \n",
              "\n",
              "             SAS                                       Finger_print  BITS  \n",
              "0       2.084095  [0, 1, 0, 1, 0, 1, 0, 0, 1, 0, 0, 0, 0, 0, 0, ...   inf  \n",
              "1       3.432004  [1, 0, 1, 0, 0, 1, 0, 1, 0, 0, 0, 1, 0, 0, 0, ...   inf  \n",
              "2       2.470633  [0, 1, 0, 0, 1, 0, 0, 0, 1, 1, 0, 0, 0, 1, 0, ...   inf  \n",
              "3       2.822753  [1, 1, 1, 0, 1, 1, 1, 1, 1, 1, 1, 0, 1, 0, 1, ...   inf  \n",
              "4       4.035182  [1, 0, 0, 0, 0, 1, 1, 0, 0, 0, 0, 0, 1, 0, 0, ...   inf  \n",
              "...          ...                                                ...   ...  \n",
              "249450  2.900726  [1, 1, 1, 0, 0, 0, 0, 0, 1, 0, 1, 0, 1, 0, 0, ...   inf  \n",
              "249451  2.326627  [1, 0, 0, 0, 0, 1, 1, 1, 0, 0, 0, 1, 1, 0, 0, ...   inf  \n",
              "249452  1.840642  [0, 0, 0, 0, 0, 0, 0, 0, 0, 0, 1, 1, 0, 1, 0, ...   inf  \n",
              "249453  2.024638  [1, 1, 0, 0, 1, 1, 0, 1, 0, 1, 1, 1, 0, 1, 1, ...   inf  \n",
              "249454  2.214249  [0, 1, 1, 1, 0, 1, 0, 0, 0, 0, 1, 0, 0, 1, 1, ...   inf  \n",
              "\n",
              "[249455 rows x 6 columns]"
            ],
            "text/html": [
              "\n",
              "  <div id=\"df-a29e193f-f853-4997-9756-d0bf43e2ceb8\">\n",
              "    <div class=\"colab-df-container\">\n",
              "      <div>\n",
              "<style scoped>\n",
              "    .dataframe tbody tr th:only-of-type {\n",
              "        vertical-align: middle;\n",
              "    }\n",
              "\n",
              "    .dataframe tbody tr th {\n",
              "        vertical-align: top;\n",
              "    }\n",
              "\n",
              "    .dataframe thead th {\n",
              "        text-align: right;\n",
              "    }\n",
              "</style>\n",
              "<table border=\"1\" class=\"dataframe\">\n",
              "  <thead>\n",
              "    <tr style=\"text-align: right;\">\n",
              "      <th></th>\n",
              "      <th>smiles</th>\n",
              "      <th>logP</th>\n",
              "      <th>qed</th>\n",
              "      <th>SAS</th>\n",
              "      <th>Finger_print</th>\n",
              "      <th>BITS</th>\n",
              "    </tr>\n",
              "  </thead>\n",
              "  <tbody>\n",
              "    <tr>\n",
              "      <th>0</th>\n",
              "      <td>CC(C)(C)c1ccc2occ(CC(=O)Nc3ccccc3F)c2c1\\n</td>\n",
              "      <td>5.05060</td>\n",
              "      <td>0.702012</td>\n",
              "      <td>2.084095</td>\n",
              "      <td>[0, 1, 0, 1, 0, 1, 0, 0, 1, 0, 0, 0, 0, 0, 0, ...</td>\n",
              "      <td>inf</td>\n",
              "    </tr>\n",
              "    <tr>\n",
              "      <th>1</th>\n",
              "      <td>C[C@@H]1CC(Nc2cncc(-c3nncn3C)c2)C[C@@H](C)C1\\n</td>\n",
              "      <td>3.11370</td>\n",
              "      <td>0.928975</td>\n",
              "      <td>3.432004</td>\n",
              "      <td>[1, 0, 1, 0, 0, 1, 0, 1, 0, 0, 0, 1, 0, 0, 0, ...</td>\n",
              "      <td>inf</td>\n",
              "    </tr>\n",
              "    <tr>\n",
              "      <th>2</th>\n",
              "      <td>N#Cc1ccc(-c2ccc(O[C@@H](C(=O)N3CCCC3)c3ccccc3)...</td>\n",
              "      <td>4.96778</td>\n",
              "      <td>0.599682</td>\n",
              "      <td>2.470633</td>\n",
              "      <td>[0, 1, 0, 0, 1, 0, 0, 0, 1, 1, 0, 0, 0, 1, 0, ...</td>\n",
              "      <td>inf</td>\n",
              "    </tr>\n",
              "    <tr>\n",
              "      <th>3</th>\n",
              "      <td>CCOC(=O)[C@@H]1CCCN(C(=O)c2nc(-c3ccc(C)cc3)n3c...</td>\n",
              "      <td>4.00022</td>\n",
              "      <td>0.690944</td>\n",
              "      <td>2.822753</td>\n",
              "      <td>[1, 1, 1, 0, 1, 1, 1, 1, 1, 1, 1, 0, 1, 0, 1, ...</td>\n",
              "      <td>inf</td>\n",
              "    </tr>\n",
              "    <tr>\n",
              "      <th>4</th>\n",
              "      <td>N#CC1=C(SCC(=O)Nc2cccc(Cl)c2)N=C([O-])[C@H](C#...</td>\n",
              "      <td>3.60956</td>\n",
              "      <td>0.789027</td>\n",
              "      <td>4.035182</td>\n",
              "      <td>[1, 0, 0, 0, 0, 1, 1, 0, 0, 0, 0, 0, 1, 0, 0, ...</td>\n",
              "      <td>inf</td>\n",
              "    </tr>\n",
              "    <tr>\n",
              "      <th>...</th>\n",
              "      <td>...</td>\n",
              "      <td>...</td>\n",
              "      <td>...</td>\n",
              "      <td>...</td>\n",
              "      <td>...</td>\n",
              "      <td>...</td>\n",
              "    </tr>\n",
              "    <tr>\n",
              "      <th>249450</th>\n",
              "      <td>CC1(C)CC[C@H](CNC(=O)Cn2ncc3ccccc3c2=O)c2ccccc...</td>\n",
              "      <td>3.36790</td>\n",
              "      <td>0.745901</td>\n",
              "      <td>2.900726</td>\n",
              "      <td>[1, 1, 1, 0, 0, 0, 0, 0, 1, 0, 1, 0, 1, 0, 0, ...</td>\n",
              "      <td>inf</td>\n",
              "    </tr>\n",
              "    <tr>\n",
              "      <th>249451</th>\n",
              "      <td>Cn1ccnc1C(=O)c1ccc(NC(=O)C2CCN(C(=O)C(C)(C)C)C...</td>\n",
              "      <td>2.87430</td>\n",
              "      <td>0.799426</td>\n",
              "      <td>2.326627</td>\n",
              "      <td>[1, 0, 0, 0, 0, 1, 1, 1, 0, 0, 0, 1, 1, 0, 0, ...</td>\n",
              "      <td>inf</td>\n",
              "    </tr>\n",
              "    <tr>\n",
              "      <th>249452</th>\n",
              "      <td>Cc1ccc(NC(=O)C(=O)N(C)Cc2ccccc2)c(C)c1\\n</td>\n",
              "      <td>2.90054</td>\n",
              "      <td>0.878086</td>\n",
              "      <td>1.840642</td>\n",
              "      <td>[0, 0, 0, 0, 0, 0, 0, 0, 0, 0, 1, 1, 0, 1, 0, ...</td>\n",
              "      <td>inf</td>\n",
              "    </tr>\n",
              "    <tr>\n",
              "      <th>249453</th>\n",
              "      <td>Cc1cc(C(=O)Nc2ccc(OCC(N)=O)cc2)c(C)n1C1CC1\\n</td>\n",
              "      <td>2.55624</td>\n",
              "      <td>0.852917</td>\n",
              "      <td>2.024638</td>\n",
              "      <td>[1, 1, 0, 0, 1, 1, 0, 1, 0, 1, 1, 1, 0, 1, 1, ...</td>\n",
              "      <td>inf</td>\n",
              "    </tr>\n",
              "    <tr>\n",
              "      <th>249454</th>\n",
              "      <td>O=C(CC(c1ccccc1)c1ccccc1)N1CCN(S(=O)(=O)c2cccc...</td>\n",
              "      <td>3.64990</td>\n",
              "      <td>0.370287</td>\n",
              "      <td>2.214249</td>\n",
              "      <td>[0, 1, 1, 1, 0, 1, 0, 0, 0, 0, 1, 0, 0, 1, 1, ...</td>\n",
              "      <td>inf</td>\n",
              "    </tr>\n",
              "  </tbody>\n",
              "</table>\n",
              "<p>249455 rows × 6 columns</p>\n",
              "</div>\n",
              "      <button class=\"colab-df-convert\" onclick=\"convertToInteractive('df-a29e193f-f853-4997-9756-d0bf43e2ceb8')\"\n",
              "              title=\"Convert this dataframe to an interactive table.\"\n",
              "              style=\"display:none;\">\n",
              "        \n",
              "  <svg xmlns=\"http://www.w3.org/2000/svg\" height=\"24px\"viewBox=\"0 0 24 24\"\n",
              "       width=\"24px\">\n",
              "    <path d=\"M0 0h24v24H0V0z\" fill=\"none\"/>\n",
              "    <path d=\"M18.56 5.44l.94 2.06.94-2.06 2.06-.94-2.06-.94-.94-2.06-.94 2.06-2.06.94zm-11 1L8.5 8.5l.94-2.06 2.06-.94-2.06-.94L8.5 2.5l-.94 2.06-2.06.94zm10 10l.94 2.06.94-2.06 2.06-.94-2.06-.94-.94-2.06-.94 2.06-2.06.94z\"/><path d=\"M17.41 7.96l-1.37-1.37c-.4-.4-.92-.59-1.43-.59-.52 0-1.04.2-1.43.59L10.3 9.45l-7.72 7.72c-.78.78-.78 2.05 0 2.83L4 21.41c.39.39.9.59 1.41.59.51 0 1.02-.2 1.41-.59l7.78-7.78 2.81-2.81c.8-.78.8-2.07 0-2.86zM5.41 20L4 18.59l7.72-7.72 1.47 1.35L5.41 20z\"/>\n",
              "  </svg>\n",
              "      </button>\n",
              "      \n",
              "  <style>\n",
              "    .colab-df-container {\n",
              "      display:flex;\n",
              "      flex-wrap:wrap;\n",
              "      gap: 12px;\n",
              "    }\n",
              "\n",
              "    .colab-df-convert {\n",
              "      background-color: #E8F0FE;\n",
              "      border: none;\n",
              "      border-radius: 50%;\n",
              "      cursor: pointer;\n",
              "      display: none;\n",
              "      fill: #1967D2;\n",
              "      height: 32px;\n",
              "      padding: 0 0 0 0;\n",
              "      width: 32px;\n",
              "    }\n",
              "\n",
              "    .colab-df-convert:hover {\n",
              "      background-color: #E2EBFA;\n",
              "      box-shadow: 0px 1px 2px rgba(60, 64, 67, 0.3), 0px 1px 3px 1px rgba(60, 64, 67, 0.15);\n",
              "      fill: #174EA6;\n",
              "    }\n",
              "\n",
              "    [theme=dark] .colab-df-convert {\n",
              "      background-color: #3B4455;\n",
              "      fill: #D2E3FC;\n",
              "    }\n",
              "\n",
              "    [theme=dark] .colab-df-convert:hover {\n",
              "      background-color: #434B5C;\n",
              "      box-shadow: 0px 1px 3px 1px rgba(0, 0, 0, 0.15);\n",
              "      filter: drop-shadow(0px 1px 2px rgba(0, 0, 0, 0.3));\n",
              "      fill: #FFFFFF;\n",
              "    }\n",
              "  </style>\n",
              "\n",
              "      <script>\n",
              "        const buttonEl =\n",
              "          document.querySelector('#df-a29e193f-f853-4997-9756-d0bf43e2ceb8 button.colab-df-convert');\n",
              "        buttonEl.style.display =\n",
              "          google.colab.kernel.accessAllowed ? 'block' : 'none';\n",
              "\n",
              "        async function convertToInteractive(key) {\n",
              "          const element = document.querySelector('#df-a29e193f-f853-4997-9756-d0bf43e2ceb8');\n",
              "          const dataTable =\n",
              "            await google.colab.kernel.invokeFunction('convertToInteractive',\n",
              "                                                     [key], {});\n",
              "          if (!dataTable) return;\n",
              "\n",
              "          const docLinkHtml = 'Like what you see? Visit the ' +\n",
              "            '<a target=\"_blank\" href=https://colab.research.google.com/notebooks/data_table.ipynb>data table notebook</a>'\n",
              "            + ' to learn more about interactive tables.';\n",
              "          element.innerHTML = '';\n",
              "          dataTable['output_type'] = 'display_data';\n",
              "          await google.colab.output.renderOutput(dataTable, element);\n",
              "          const docLink = document.createElement('div');\n",
              "          docLink.innerHTML = docLinkHtml;\n",
              "          element.appendChild(docLink);\n",
              "        }\n",
              "      </script>\n",
              "    </div>\n",
              "  </div>\n",
              "  "
            ]
          },
          "metadata": {},
          "execution_count": 154
        }
      ]
    },
    {
      "cell_type": "markdown",
      "source": [
        "Great now that we are sure there are no duplicates and missing values, let's start doing some data-analysis and ML.\n"
      ],
      "metadata": {
        "id": "SMhW4oHRZOeT"
      }
    },
    {
      "cell_type": "markdown",
      "source": [
        "# Druglikeness Prediction: "
      ],
      "metadata": {
        "id": "DvXP3dqdYoS4"
      }
    },
    {
      "cell_type": "markdown",
      "source": [
        "## In this part of the notebook:  Let's predict the druglikeness of chemical compounds. "
      ],
      "metadata": {
        "id": "F-oOvNQzYigO"
      }
    },
    {
      "cell_type": "markdown",
      "source": [
        "Our x variable will be the SMILES string and Y will be the SAS score: \n",
        "  "
      ],
      "metadata": {
        "id": "EnG9vzHhY0v7"
      }
    },
    {
      "cell_type": "code",
      "source": [
        "x = pd.DataFrame(data.BITS)\n",
        "y = pd.DataFrame(data.SAS)"
      ],
      "metadata": {
        "id": "RFJH4QHpZEnY"
      },
      "execution_count": 144,
      "outputs": []
    },
    {
      "cell_type": "markdown",
      "source": [
        "Let's split the data into train-test set with 80-20 split as data is quite large: "
      ],
      "metadata": {
        "id": "Xoxs-6mJYQnz"
      }
    },
    {
      "cell_type": "code",
      "source": [
        "from sklearn.model_selection import train_test_split\n",
        "\n",
        "x_train, x_test, Y_train, Y_test = train_test_split(x, y, test_size=0.1, shuffle = True, random_state=42)"
      ],
      "metadata": {
        "id": "JAoqqX-7YY8r"
      },
      "execution_count": 145,
      "outputs": []
    },
    {
      "cell_type": "markdown",
      "source": [
        "Let's now split the train set into train and validation sets: "
      ],
      "metadata": {
        "id": "YLqZmlEwZ81X"
      }
    },
    {
      "cell_type": "code",
      "source": [
        "x_train, x_val, Y_train, Y_val = train_test_split(x_train, Y_train, test_size=0.2, shuffle = True, random_state = 42)"
      ],
      "metadata": {
        "id": "UTJKlb9naBXX"
      },
      "execution_count": 146,
      "outputs": []
    },
    {
      "cell_type": "code",
      "source": [
        "x_train.iloc[0].values[0]"
      ],
      "metadata": {
        "colab": {
          "base_uri": "https://localhost:8080/",
          "height": 109
        },
        "id": "LM5Rklw3bXPp",
        "outputId": "c6222003-a2ae-460d-e970-16fc77d188e3"
      },
      "execution_count": 147,
      "outputs": [
        {
          "output_type": "execute_result",
          "data": {
            "text/plain": [
              "'11000100000001001001101000011100111001000011010001110011001100011101110000101100001101001010110010000111110001011001001001110000000000000011011000011111110100001101001010110110010111000111100001100100001011001110010000010101000111101101010001101000011111101111000101001000000110010001010000000011101000111100101111000001000000010111001010011000000010101000100001000000001110001100010100110010001101001000100001101000000110010000010010001100111011101100100100000011111001000011001101101010001111100001100000111011101000000010011111000110000100010010101010011000101000001100010000010000110100010100010000011001011011001000000000111100110001111100100111010100100001001011111000111010010110011010011101011010000101011001001100110001001001010101011100000010101100101101101110101011001001101010001010001010011101011011100000010011101000001000011011100011001101001010100011110011000111010100110110100110001010010111111110010010001111010011000010110000010000000111000011101010001000010101001101110011000001000011000000010011001100100011000001011111111010000011010100001100011100010001001010000101100010000100001001010010000101100000000010001001101111100111110000011100011110100111010101010101110100011011010001101100000001001110000000100101010101000100011101000101000100011011011110100101111010010010010001101101011010000011010001100010100110011111010100101011010100111010111001010001001010001010010001010001011001001011000010000111100010000000000001110010111010010001000000010100100100011111000100011011100111110010110100100010101100101000010100010001001010101100100010110110000100100110001011001000101010110010100001000001010000000100111010010010101100110101010111010111000010000010100011101000000000000100011100110011010001100011010110000100000001110011001001110100001100010000101000000000101000001011000000001001111001100100101010001100101110110101011000010000001001000001101010100001010000110101101100001001110100100010100010011101011000110110111111100100011010011000000100110101001101100110100011001000101001101101000111001110000111011110011101000011'"
            ],
            "application/vnd.google.colaboratory.intrinsic+json": {
              "type": "string"
            }
          },
          "metadata": {},
          "execution_count": 147
        }
      ]
    },
    {
      "cell_type": "code",
      "source": [
        "print(f'The following molecule has a Druglikeness score of {Y_train.iloc[0].values[0]}')\n",
        "Chem.MolFromSmiles(x_train.iloc[0].values[0])"
      ],
      "metadata": {
        "colab": {
          "base_uri": "https://localhost:8080/"
        },
        "id": "NqdX7aNtaMx-",
        "outputId": "46312f81-8b2f-4c51-fb33-c1a93a32e9b7"
      },
      "execution_count": 148,
      "outputs": [
        {
          "output_type": "stream",
          "name": "stdout",
          "text": [
            "The following molecule has a Druglikeness score of 2.865524868075328\n"
          ]
        }
      ]
    },
    {
      "cell_type": "code",
      "source": [
        "from sklearn.linear_model import LinearRegression\n",
        "from sklearn.model_selection import cross_validate\n",
        "\n",
        "LR_model = LinearRegression()\n",
        "\n",
        "cv = cross_validate(LR_model , x_train, Y_train, cv = 2, n_jobs=-1)\n"
      ],
      "metadata": {
        "colab": {
          "base_uri": "https://localhost:8080/"
        },
        "id": "p0l4Ybzwbvsw",
        "outputId": "89826b96-5abe-4ca1-abc4-575452494d9d"
      },
      "execution_count": 150,
      "outputs": [
        {
          "output_type": "stream",
          "name": "stderr",
          "text": [
            "/usr/local/lib/python3.8/dist-packages/sklearn/model_selection/_validation.py:372: FitFailedWarning: \n",
            "2 fits failed out of a total of 2.\n",
            "The score on these train-test partitions for these parameters will be set to nan.\n",
            "If these failures are not expected, you can try to debug them by setting error_score='raise'.\n",
            "\n",
            "Below are more details about the failures:\n",
            "--------------------------------------------------------------------------------\n",
            "2 fits failed with the following error:\n",
            "Traceback (most recent call last):\n",
            "  File \"/usr/local/lib/python3.8/dist-packages/sklearn/model_selection/_validation.py\", line 680, in _fit_and_score\n",
            "    estimator.fit(X_train, y_train, **fit_params)\n",
            "  File \"/usr/local/lib/python3.8/dist-packages/sklearn/linear_model/_base.py\", line 662, in fit\n",
            "    X, y = self._validate_data(\n",
            "  File \"/usr/local/lib/python3.8/dist-packages/sklearn/base.py\", line 581, in _validate_data\n",
            "    X, y = check_X_y(X, y, **check_params)\n",
            "  File \"/usr/local/lib/python3.8/dist-packages/sklearn/utils/validation.py\", line 964, in check_X_y\n",
            "    X = check_array(\n",
            "  File \"/usr/local/lib/python3.8/dist-packages/sklearn/utils/validation.py\", line 800, in check_array\n",
            "    _assert_all_finite(array, allow_nan=force_all_finite == \"allow-nan\")\n",
            "  File \"/usr/local/lib/python3.8/dist-packages/sklearn/utils/validation.py\", line 114, in _assert_all_finite\n",
            "    raise ValueError(\n",
            "ValueError: Input contains NaN, infinity or a value too large for dtype('float64').\n",
            "\n",
            "  warnings.warn(some_fits_failed_message, FitFailedWarning)\n"
          ]
        }
      ]
    }
  ]
}